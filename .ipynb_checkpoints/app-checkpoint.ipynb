{
 "cells": [
  {
   "metadata": {
    "ExecuteTime": {
     "end_time": "2025-05-10T02:03:59.775510Z",
     "start_time": "2025-05-10T02:03:59.261519Z"
    }
   },
   "cell_type": "code",
   "source": [
    "import numpy as np\n",
    "import pandas as pd\n",
    "movies = pd.read_csv('D:/project/python/MovieR/tmdb_5000_movies.csv')\n",
    "credits = pd.read_csv('D:/project/python/MovieR/tmdb_5000_credits.csv')\n",
    "\n",
    "movies.head()\n",
    "credits.head()\n",
    "movies = movies.merge(credits, on='title').shape\n",
    "\n"
   ],
   "id": "ef4933f1c92a1ff1",
   "outputs": [],
   "execution_count": 2
  },
  {
   "metadata": {
    "ExecuteTime": {
     "end_time": "2025-05-10T01:23:32.216130Z",
     "start_time": "2025-05-10T01:23:32.211805Z"
    }
   },
   "cell_type": "code",
   "source": "movies.shape\n",
   "id": "1ca04eabb4997e67",
   "outputs": [
    {
     "data": {
      "text/plain": [
       "(4803, 20)"
      ]
     },
     "execution_count": 15,
     "metadata": {},
     "output_type": "execute_result"
    }
   ],
   "execution_count": 15
  },
  {
   "metadata": {
    "ExecuteTime": {
     "end_time": "2025-05-10T01:23:40.766931Z",
     "start_time": "2025-05-10T01:23:40.762205Z"
    }
   },
   "cell_type": "code",
   "source": "credits.shape\n",
   "id": "92909135e02f3853",
   "outputs": [
    {
     "data": {
      "text/plain": [
       "(4803, 4)"
      ]
     },
     "execution_count": 16,
     "metadata": {},
     "output_type": "execute_result"
    }
   ],
   "execution_count": 16
  }
 ],
 "metadata": {
  "kernelspec": {
   "display_name": "Python 3",
   "language": "python",
   "name": "python3"
  },
  "language_info": {
   "codemirror_mode": {
    "name": "ipython",
    "version": 2
   },
   "file_extension": ".py",
   "mimetype": "text/x-python",
   "name": "python",
   "nbconvert_exporter": "python",
   "pygments_lexer": "ipython2",
   "version": "2.7.6"
  }
 },
 "nbformat": 4,
 "nbformat_minor": 5
}
